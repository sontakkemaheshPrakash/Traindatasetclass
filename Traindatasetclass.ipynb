{
 "cells": [
  {
   "cell_type": "code",
   "execution_count": 20,
   "id": "31051d5c-d31d-4044-97ad-fdf3db250a3c",
   "metadata": {},
   "outputs": [],
   "source": [
    "import pandas as pd\n",
    "import numpy as np\n",
    "import matplotlib.pyplot as plt\n",
    "from sklearn.model_selection import train_test_split\n",
    "from sklearn.linear_model import LogisticRegression\n",
    "from sklearn.neighbors import KNeighborsClassifier\n",
    "from sklearn.tree import DecisionTreeClassifier\n",
    "from sklearn import tree\n",
    "from sklearn.preprocessing import OneHotEncoder\n",
    "from sklearn.metrics import accuracy_score"
   ]
  },
  {
   "cell_type": "code",
   "execution_count": 2,
   "id": "418c9216-9071-46bc-9666-a74c63efa543",
   "metadata": {},
   "outputs": [
    {
     "data": {
      "text/html": [
       "<div>\n",
       "<style scoped>\n",
       "    .dataframe tbody tr th:only-of-type {\n",
       "        vertical-align: middle;\n",
       "    }\n",
       "\n",
       "    .dataframe tbody tr th {\n",
       "        vertical-align: top;\n",
       "    }\n",
       "\n",
       "    .dataframe thead th {\n",
       "        text-align: right;\n",
       "    }\n",
       "</style>\n",
       "<table border=\"1\" class=\"dataframe\">\n",
       "  <thead>\n",
       "    <tr style=\"text-align: right;\">\n",
       "      <th></th>\n",
       "      <th>survived</th>\n",
       "      <th>pclass</th>\n",
       "      <th>sex</th>\n",
       "      <th>age</th>\n",
       "      <th>sibsp</th>\n",
       "      <th>parch</th>\n",
       "      <th>fare</th>\n",
       "      <th>station</th>\n",
       "    </tr>\n",
       "  </thead>\n",
       "  <tbody>\n",
       "    <tr>\n",
       "      <th>0</th>\n",
       "      <td>0</td>\n",
       "      <td>3</td>\n",
       "      <td>1</td>\n",
       "      <td>22.0</td>\n",
       "      <td>1</td>\n",
       "      <td>0</td>\n",
       "      <td>7.2500</td>\n",
       "      <td>S</td>\n",
       "    </tr>\n",
       "    <tr>\n",
       "      <th>1</th>\n",
       "      <td>1</td>\n",
       "      <td>1</td>\n",
       "      <td>0</td>\n",
       "      <td>38.0</td>\n",
       "      <td>1</td>\n",
       "      <td>0</td>\n",
       "      <td>71.2833</td>\n",
       "      <td>C</td>\n",
       "    </tr>\n",
       "    <tr>\n",
       "      <th>2</th>\n",
       "      <td>1</td>\n",
       "      <td>3</td>\n",
       "      <td>0</td>\n",
       "      <td>26.0</td>\n",
       "      <td>0</td>\n",
       "      <td>0</td>\n",
       "      <td>7.9250</td>\n",
       "      <td>S</td>\n",
       "    </tr>\n",
       "    <tr>\n",
       "      <th>3</th>\n",
       "      <td>1</td>\n",
       "      <td>1</td>\n",
       "      <td>0</td>\n",
       "      <td>35.0</td>\n",
       "      <td>1</td>\n",
       "      <td>0</td>\n",
       "      <td>53.1000</td>\n",
       "      <td>S</td>\n",
       "    </tr>\n",
       "    <tr>\n",
       "      <th>4</th>\n",
       "      <td>0</td>\n",
       "      <td>3</td>\n",
       "      <td>1</td>\n",
       "      <td>35.0</td>\n",
       "      <td>0</td>\n",
       "      <td>0</td>\n",
       "      <td>8.0500</td>\n",
       "      <td>S</td>\n",
       "    </tr>\n",
       "    <tr>\n",
       "      <th>5</th>\n",
       "      <td>0</td>\n",
       "      <td>3</td>\n",
       "      <td>1</td>\n",
       "      <td>NaN</td>\n",
       "      <td>0</td>\n",
       "      <td>0</td>\n",
       "      <td>8.4583</td>\n",
       "      <td>Q</td>\n",
       "    </tr>\n",
       "    <tr>\n",
       "      <th>6</th>\n",
       "      <td>0</td>\n",
       "      <td>1</td>\n",
       "      <td>1</td>\n",
       "      <td>54.0</td>\n",
       "      <td>0</td>\n",
       "      <td>0</td>\n",
       "      <td>51.8625</td>\n",
       "      <td>S</td>\n",
       "    </tr>\n",
       "    <tr>\n",
       "      <th>7</th>\n",
       "      <td>0</td>\n",
       "      <td>3</td>\n",
       "      <td>1</td>\n",
       "      <td>2.0</td>\n",
       "      <td>3</td>\n",
       "      <td>1</td>\n",
       "      <td>21.0750</td>\n",
       "      <td>S</td>\n",
       "    </tr>\n",
       "    <tr>\n",
       "      <th>8</th>\n",
       "      <td>1</td>\n",
       "      <td>3</td>\n",
       "      <td>0</td>\n",
       "      <td>27.0</td>\n",
       "      <td>0</td>\n",
       "      <td>2</td>\n",
       "      <td>11.1333</td>\n",
       "      <td>S</td>\n",
       "    </tr>\n",
       "    <tr>\n",
       "      <th>9</th>\n",
       "      <td>1</td>\n",
       "      <td>2</td>\n",
       "      <td>0</td>\n",
       "      <td>14.0</td>\n",
       "      <td>1</td>\n",
       "      <td>0</td>\n",
       "      <td>30.0708</td>\n",
       "      <td>C</td>\n",
       "    </tr>\n",
       "  </tbody>\n",
       "</table>\n",
       "</div>"
      ],
      "text/plain": [
       "   survived  pclass  sex   age  sibsp  parch     fare station\n",
       "0         0       3    1  22.0      1      0   7.2500       S\n",
       "1         1       1    0  38.0      1      0  71.2833       C\n",
       "2         1       3    0  26.0      0      0   7.9250       S\n",
       "3         1       1    0  35.0      1      0  53.1000       S\n",
       "4         0       3    1  35.0      0      0   8.0500       S\n",
       "5         0       3    1   NaN      0      0   8.4583       Q\n",
       "6         0       1    1  54.0      0      0  51.8625       S\n",
       "7         0       3    1   2.0      3      1  21.0750       S\n",
       "8         1       3    0  27.0      0      2  11.1333       S\n",
       "9         1       2    0  14.0      1      0  30.0708       C"
      ]
     },
     "execution_count": 2,
     "metadata": {},
     "output_type": "execute_result"
    }
   ],
   "source": [
    "train_V1 = pd.read_csv(\"TrainData.csv\")\n",
    "train_V1['sex'] = train_V1['sex'].map({'male': 1, 'female': 0})\n",
    "train_V1.head(10)"
   ]
  },
  {
   "cell_type": "code",
   "execution_count": 3,
   "id": "30041319-3cb9-4540-a50b-820fc5895a90",
   "metadata": {},
   "outputs": [
    {
     "name": "stdout",
     "output_type": "stream",
     "text": [
      "<class 'pandas.core.frame.DataFrame'>\n",
      "RangeIndex: 891 entries, 0 to 890\n",
      "Data columns (total 8 columns):\n",
      " #   Column    Non-Null Count  Dtype  \n",
      "---  ------    --------------  -----  \n",
      " 0   survived  891 non-null    int64  \n",
      " 1   pclass    891 non-null    int64  \n",
      " 2   sex       891 non-null    int64  \n",
      " 3   age       714 non-null    float64\n",
      " 4   sibsp     891 non-null    int64  \n",
      " 5   parch     891 non-null    int64  \n",
      " 6   fare      891 non-null    float64\n",
      " 7   station   889 non-null    object \n",
      "dtypes: float64(2), int64(5), object(1)\n",
      "memory usage: 55.8+ KB\n"
     ]
    }
   ],
   "source": [
    "train_V1.info()"
   ]
  },
  {
   "cell_type": "code",
   "execution_count": 4,
   "id": "b5f9ce98-f80a-42bc-b0fc-3392e852996e",
   "metadata": {},
   "outputs": [
    {
     "data": {
      "text/plain": [
       "survived      0\n",
       "pclass        0\n",
       "sex           0\n",
       "age         177\n",
       "sibsp         0\n",
       "parch         0\n",
       "fare          0\n",
       "station       2\n",
       "dtype: int64"
      ]
     },
     "execution_count": 4,
     "metadata": {},
     "output_type": "execute_result"
    }
   ],
   "source": [
    "train_V1.isna().sum()"
   ]
  },
  {
   "cell_type": "markdown",
   "id": "5a5e8242-9c64-4018-875f-3393d4900857",
   "metadata": {},
   "source": [
    " Question 1 -Clean the data and remove any unwanted records. How many records do you have now?"
   ]
  },
  {
   "cell_type": "code",
   "execution_count": 5,
   "id": "2f62119a-5088-4cd0-b3e0-3909a003012a",
   "metadata": {},
   "outputs": [],
   "source": [
    "train_V2 = train_V1.dropna()"
   ]
  },
  {
   "cell_type": "code",
   "execution_count": 6,
   "id": "f229f257-4473-4238-a661-5a99860f1147",
   "metadata": {},
   "outputs": [
    {
     "name": "stdout",
     "output_type": "stream",
     "text": [
      "<class 'pandas.core.frame.DataFrame'>\n",
      "Index: 712 entries, 0 to 890\n",
      "Data columns (total 8 columns):\n",
      " #   Column    Non-Null Count  Dtype  \n",
      "---  ------    --------------  -----  \n",
      " 0   survived  712 non-null    int64  \n",
      " 1   pclass    712 non-null    int64  \n",
      " 2   sex       712 non-null    int64  \n",
      " 3   age       712 non-null    float64\n",
      " 4   sibsp     712 non-null    int64  \n",
      " 5   parch     712 non-null    int64  \n",
      " 6   fare      712 non-null    float64\n",
      " 7   station   712 non-null    object \n",
      "dtypes: float64(2), int64(5), object(1)\n",
      "memory usage: 50.1+ KB\n"
     ]
    }
   ],
   "source": [
    "train_V2.info()"
   ]
  },
  {
   "cell_type": "markdown",
   "id": "c4e21c7c-af0c-4f68-8350-170b32cb6133",
   "metadata": {},
   "source": [
    "Out of 890 records, After Cleaning we have 712 records."
   ]
  },
  {
   "cell_type": "markdown",
   "id": "29605027-1885-44a9-93ce-7178f111c6e1",
   "metadata": {},
   "source": [
    "Question 2. The train picked most passengers from which station ?"
   ]
  },
  {
   "cell_type": "code",
   "execution_count": 7,
   "id": "4a653d52-1f49-406d-a919-2d3382d997be",
   "metadata": {},
   "outputs": [
    {
     "data": {
      "text/plain": [
       "station\n",
       "C    168\n",
       "Q     77\n",
       "S    644\n",
       "Name: station, dtype: int64"
      ]
     },
     "execution_count": 7,
     "metadata": {},
     "output_type": "execute_result"
    }
   ],
   "source": [
    "train_V1.groupby(['station'])['station'].count()"
   ]
  },
  {
   "cell_type": "markdown",
   "id": "d59677ed-1a36-4291-9e87-088f48fee4cb",
   "metadata": {},
   "source": [
    "The train picked most passengers from 'S' station , the count is 644."
   ]
  },
  {
   "cell_type": "markdown",
   "id": "ac74cf84-6757-46ff-9077-49ecf6077b35",
   "metadata": {},
   "source": [
    "Question 3.  basic data exploration (e.g. using commands as head( ), info( ), describe( ), nunique( ).Which variables will you NOT select?"
   ]
  },
  {
   "cell_type": "code",
   "execution_count": 8,
   "id": "fd5fda8a-0d7f-48e5-875a-eba5144d41c2",
   "metadata": {},
   "outputs": [
    {
     "name": "stdout",
     "output_type": "stream",
     "text": [
      "<class 'pandas.core.frame.DataFrame'>\n",
      "Index: 712 entries, 0 to 890\n",
      "Data columns (total 8 columns):\n",
      " #   Column    Non-Null Count  Dtype  \n",
      "---  ------    --------------  -----  \n",
      " 0   survived  712 non-null    int64  \n",
      " 1   pclass    712 non-null    int64  \n",
      " 2   sex       712 non-null    int64  \n",
      " 3   age       712 non-null    float64\n",
      " 4   sibsp     712 non-null    int64  \n",
      " 5   parch     712 non-null    int64  \n",
      " 6   fare      712 non-null    float64\n",
      " 7   station   712 non-null    object \n",
      "dtypes: float64(2), int64(5), object(1)\n",
      "memory usage: 50.1+ KB\n"
     ]
    }
   ],
   "source": [
    "train_V2.info()"
   ]
  },
  {
   "cell_type": "code",
   "execution_count": 9,
   "id": "77d08b20-5359-48b9-af56-5e72d7ef7e6f",
   "metadata": {},
   "outputs": [
    {
     "data": {
      "text/html": [
       "<div>\n",
       "<style scoped>\n",
       "    .dataframe tbody tr th:only-of-type {\n",
       "        vertical-align: middle;\n",
       "    }\n",
       "\n",
       "    .dataframe tbody tr th {\n",
       "        vertical-align: top;\n",
       "    }\n",
       "\n",
       "    .dataframe thead th {\n",
       "        text-align: right;\n",
       "    }\n",
       "</style>\n",
       "<table border=\"1\" class=\"dataframe\">\n",
       "  <thead>\n",
       "    <tr style=\"text-align: right;\">\n",
       "      <th></th>\n",
       "      <th>survived</th>\n",
       "      <th>pclass</th>\n",
       "      <th>sex</th>\n",
       "      <th>age</th>\n",
       "      <th>sibsp</th>\n",
       "      <th>parch</th>\n",
       "      <th>fare</th>\n",
       "      <th>station</th>\n",
       "    </tr>\n",
       "  </thead>\n",
       "  <tbody>\n",
       "    <tr>\n",
       "      <th>0</th>\n",
       "      <td>0</td>\n",
       "      <td>3</td>\n",
       "      <td>1</td>\n",
       "      <td>22.0</td>\n",
       "      <td>1</td>\n",
       "      <td>0</td>\n",
       "      <td>7.2500</td>\n",
       "      <td>S</td>\n",
       "    </tr>\n",
       "    <tr>\n",
       "      <th>1</th>\n",
       "      <td>1</td>\n",
       "      <td>1</td>\n",
       "      <td>0</td>\n",
       "      <td>38.0</td>\n",
       "      <td>1</td>\n",
       "      <td>0</td>\n",
       "      <td>71.2833</td>\n",
       "      <td>C</td>\n",
       "    </tr>\n",
       "    <tr>\n",
       "      <th>2</th>\n",
       "      <td>1</td>\n",
       "      <td>3</td>\n",
       "      <td>0</td>\n",
       "      <td>26.0</td>\n",
       "      <td>0</td>\n",
       "      <td>0</td>\n",
       "      <td>7.9250</td>\n",
       "      <td>S</td>\n",
       "    </tr>\n",
       "    <tr>\n",
       "      <th>3</th>\n",
       "      <td>1</td>\n",
       "      <td>1</td>\n",
       "      <td>0</td>\n",
       "      <td>35.0</td>\n",
       "      <td>1</td>\n",
       "      <td>0</td>\n",
       "      <td>53.1000</td>\n",
       "      <td>S</td>\n",
       "    </tr>\n",
       "    <tr>\n",
       "      <th>4</th>\n",
       "      <td>0</td>\n",
       "      <td>3</td>\n",
       "      <td>1</td>\n",
       "      <td>35.0</td>\n",
       "      <td>0</td>\n",
       "      <td>0</td>\n",
       "      <td>8.0500</td>\n",
       "      <td>S</td>\n",
       "    </tr>\n",
       "  </tbody>\n",
       "</table>\n",
       "</div>"
      ],
      "text/plain": [
       "   survived  pclass  sex   age  sibsp  parch     fare station\n",
       "0         0       3    1  22.0      1      0   7.2500       S\n",
       "1         1       1    0  38.0      1      0  71.2833       C\n",
       "2         1       3    0  26.0      0      0   7.9250       S\n",
       "3         1       1    0  35.0      1      0  53.1000       S\n",
       "4         0       3    1  35.0      0      0   8.0500       S"
      ]
     },
     "execution_count": 9,
     "metadata": {},
     "output_type": "execute_result"
    }
   ],
   "source": [
    "train_V2.head()"
   ]
  },
  {
   "cell_type": "code",
   "execution_count": 10,
   "id": "b712cec6-1943-4919-b147-5bd2d920be65",
   "metadata": {},
   "outputs": [
    {
     "data": {
      "text/html": [
       "<div>\n",
       "<style scoped>\n",
       "    .dataframe tbody tr th:only-of-type {\n",
       "        vertical-align: middle;\n",
       "    }\n",
       "\n",
       "    .dataframe tbody tr th {\n",
       "        vertical-align: top;\n",
       "    }\n",
       "\n",
       "    .dataframe thead th {\n",
       "        text-align: right;\n",
       "    }\n",
       "</style>\n",
       "<table border=\"1\" class=\"dataframe\">\n",
       "  <thead>\n",
       "    <tr style=\"text-align: right;\">\n",
       "      <th></th>\n",
       "      <th>survived</th>\n",
       "      <th>pclass</th>\n",
       "      <th>sex</th>\n",
       "      <th>age</th>\n",
       "      <th>sibsp</th>\n",
       "      <th>parch</th>\n",
       "      <th>fare</th>\n",
       "    </tr>\n",
       "  </thead>\n",
       "  <tbody>\n",
       "    <tr>\n",
       "      <th>count</th>\n",
       "      <td>712.000000</td>\n",
       "      <td>712.000000</td>\n",
       "      <td>712.000000</td>\n",
       "      <td>712.000000</td>\n",
       "      <td>712.000000</td>\n",
       "      <td>712.000000</td>\n",
       "      <td>712.000000</td>\n",
       "    </tr>\n",
       "    <tr>\n",
       "      <th>mean</th>\n",
       "      <td>0.404494</td>\n",
       "      <td>2.240169</td>\n",
       "      <td>0.636236</td>\n",
       "      <td>29.642093</td>\n",
       "      <td>0.514045</td>\n",
       "      <td>0.432584</td>\n",
       "      <td>34.567251</td>\n",
       "    </tr>\n",
       "    <tr>\n",
       "      <th>std</th>\n",
       "      <td>0.491139</td>\n",
       "      <td>0.836854</td>\n",
       "      <td>0.481420</td>\n",
       "      <td>14.492933</td>\n",
       "      <td>0.930692</td>\n",
       "      <td>0.854181</td>\n",
       "      <td>52.938648</td>\n",
       "    </tr>\n",
       "    <tr>\n",
       "      <th>min</th>\n",
       "      <td>0.000000</td>\n",
       "      <td>1.000000</td>\n",
       "      <td>0.000000</td>\n",
       "      <td>0.420000</td>\n",
       "      <td>0.000000</td>\n",
       "      <td>0.000000</td>\n",
       "      <td>0.000000</td>\n",
       "    </tr>\n",
       "    <tr>\n",
       "      <th>25%</th>\n",
       "      <td>0.000000</td>\n",
       "      <td>1.000000</td>\n",
       "      <td>0.000000</td>\n",
       "      <td>20.000000</td>\n",
       "      <td>0.000000</td>\n",
       "      <td>0.000000</td>\n",
       "      <td>8.050000</td>\n",
       "    </tr>\n",
       "    <tr>\n",
       "      <th>50%</th>\n",
       "      <td>0.000000</td>\n",
       "      <td>2.000000</td>\n",
       "      <td>1.000000</td>\n",
       "      <td>28.000000</td>\n",
       "      <td>0.000000</td>\n",
       "      <td>0.000000</td>\n",
       "      <td>15.645850</td>\n",
       "    </tr>\n",
       "    <tr>\n",
       "      <th>75%</th>\n",
       "      <td>1.000000</td>\n",
       "      <td>3.000000</td>\n",
       "      <td>1.000000</td>\n",
       "      <td>38.000000</td>\n",
       "      <td>1.000000</td>\n",
       "      <td>1.000000</td>\n",
       "      <td>33.000000</td>\n",
       "    </tr>\n",
       "    <tr>\n",
       "      <th>max</th>\n",
       "      <td>1.000000</td>\n",
       "      <td>3.000000</td>\n",
       "      <td>1.000000</td>\n",
       "      <td>80.000000</td>\n",
       "      <td>5.000000</td>\n",
       "      <td>6.000000</td>\n",
       "      <td>512.329200</td>\n",
       "    </tr>\n",
       "  </tbody>\n",
       "</table>\n",
       "</div>"
      ],
      "text/plain": [
       "         survived      pclass         sex         age       sibsp       parch  \\\n",
       "count  712.000000  712.000000  712.000000  712.000000  712.000000  712.000000   \n",
       "mean     0.404494    2.240169    0.636236   29.642093    0.514045    0.432584   \n",
       "std      0.491139    0.836854    0.481420   14.492933    0.930692    0.854181   \n",
       "min      0.000000    1.000000    0.000000    0.420000    0.000000    0.000000   \n",
       "25%      0.000000    1.000000    0.000000   20.000000    0.000000    0.000000   \n",
       "50%      0.000000    2.000000    1.000000   28.000000    0.000000    0.000000   \n",
       "75%      1.000000    3.000000    1.000000   38.000000    1.000000    1.000000   \n",
       "max      1.000000    3.000000    1.000000   80.000000    5.000000    6.000000   \n",
       "\n",
       "             fare  \n",
       "count  712.000000  \n",
       "mean    34.567251  \n",
       "std     52.938648  \n",
       "min      0.000000  \n",
       "25%      8.050000  \n",
       "50%     15.645850  \n",
       "75%     33.000000  \n",
       "max    512.329200  "
      ]
     },
     "execution_count": 10,
     "metadata": {},
     "output_type": "execute_result"
    }
   ],
   "source": [
    "train_V2.describe()"
   ]
  },
  {
   "cell_type": "code",
   "execution_count": 11,
   "id": "2a4b9cc5-fff3-492d-bc91-b40ec4ad9a2c",
   "metadata": {},
   "outputs": [
    {
     "data": {
      "text/plain": [
       "survived      2\n",
       "pclass        3\n",
       "sex           2\n",
       "age          88\n",
       "sibsp         6\n",
       "parch         7\n",
       "fare        219\n",
       "station       3\n",
       "dtype: int64"
      ]
     },
     "execution_count": 11,
     "metadata": {},
     "output_type": "execute_result"
    }
   ],
   "source": [
    "train_V2.nunique()"
   ]
  },
  {
   "cell_type": "code",
   "execution_count": 12,
   "id": "72ddee14-2597-498a-84f3-2b48a19dd052",
   "metadata": {},
   "outputs": [
    {
     "data": {
      "text/plain": [
       "sex\n",
       "0    259\n",
       "1    453\n",
       "Name: sex, dtype: int64"
      ]
     },
     "execution_count": 12,
     "metadata": {},
     "output_type": "execute_result"
    }
   ],
   "source": [
    "train_V2.groupby(['sex'])['sex'].count()"
   ]
  },
  {
   "cell_type": "code",
   "execution_count": 13,
   "id": "85a0fecb-c7dd-495f-9222-34ede310c249",
   "metadata": {},
   "outputs": [],
   "source": [
    "ohe = OneHotEncoder(handle_unknown = 'ignore', sparse_output = False).set_output(transform = 'pandas')"
   ]
  },
  {
   "cell_type": "code",
   "execution_count": 14,
   "id": "44916bbd-8b9a-4c58-816d-ec65dab14ca6",
   "metadata": {},
   "outputs": [],
   "source": [
    "station_ohe = ohe.fit_transform(train_V2[['station']])"
   ]
  },
  {
   "cell_type": "code",
   "execution_count": 15,
   "id": "6b0aa612-f419-407c-b568-49791e231277",
   "metadata": {},
   "outputs": [],
   "source": [
    "train_V2 = pd.concat([train_V2, station_ohe], axis = 1).drop(columns = ['station'])"
   ]
  },
  {
   "cell_type": "code",
   "execution_count": 16,
   "id": "cc6b5dfa-31d9-4b54-92e2-ae8ba2da6181",
   "metadata": {},
   "outputs": [
    {
     "data": {
      "text/html": [
       "<div>\n",
       "<style scoped>\n",
       "    .dataframe tbody tr th:only-of-type {\n",
       "        vertical-align: middle;\n",
       "    }\n",
       "\n",
       "    .dataframe tbody tr th {\n",
       "        vertical-align: top;\n",
       "    }\n",
       "\n",
       "    .dataframe thead th {\n",
       "        text-align: right;\n",
       "    }\n",
       "</style>\n",
       "<table border=\"1\" class=\"dataframe\">\n",
       "  <thead>\n",
       "    <tr style=\"text-align: right;\">\n",
       "      <th></th>\n",
       "      <th>survived</th>\n",
       "      <th>pclass</th>\n",
       "      <th>sex</th>\n",
       "      <th>age</th>\n",
       "      <th>sibsp</th>\n",
       "      <th>parch</th>\n",
       "      <th>fare</th>\n",
       "      <th>station_C</th>\n",
       "      <th>station_Q</th>\n",
       "      <th>station_S</th>\n",
       "    </tr>\n",
       "  </thead>\n",
       "  <tbody>\n",
       "    <tr>\n",
       "      <th>0</th>\n",
       "      <td>0</td>\n",
       "      <td>3</td>\n",
       "      <td>1</td>\n",
       "      <td>22.0</td>\n",
       "      <td>1</td>\n",
       "      <td>0</td>\n",
       "      <td>7.2500</td>\n",
       "      <td>0.0</td>\n",
       "      <td>0.0</td>\n",
       "      <td>1.0</td>\n",
       "    </tr>\n",
       "    <tr>\n",
       "      <th>1</th>\n",
       "      <td>1</td>\n",
       "      <td>1</td>\n",
       "      <td>0</td>\n",
       "      <td>38.0</td>\n",
       "      <td>1</td>\n",
       "      <td>0</td>\n",
       "      <td>71.2833</td>\n",
       "      <td>1.0</td>\n",
       "      <td>0.0</td>\n",
       "      <td>0.0</td>\n",
       "    </tr>\n",
       "    <tr>\n",
       "      <th>2</th>\n",
       "      <td>1</td>\n",
       "      <td>3</td>\n",
       "      <td>0</td>\n",
       "      <td>26.0</td>\n",
       "      <td>0</td>\n",
       "      <td>0</td>\n",
       "      <td>7.9250</td>\n",
       "      <td>0.0</td>\n",
       "      <td>0.0</td>\n",
       "      <td>1.0</td>\n",
       "    </tr>\n",
       "    <tr>\n",
       "      <th>3</th>\n",
       "      <td>1</td>\n",
       "      <td>1</td>\n",
       "      <td>0</td>\n",
       "      <td>35.0</td>\n",
       "      <td>1</td>\n",
       "      <td>0</td>\n",
       "      <td>53.1000</td>\n",
       "      <td>0.0</td>\n",
       "      <td>0.0</td>\n",
       "      <td>1.0</td>\n",
       "    </tr>\n",
       "    <tr>\n",
       "      <th>4</th>\n",
       "      <td>0</td>\n",
       "      <td>3</td>\n",
       "      <td>1</td>\n",
       "      <td>35.0</td>\n",
       "      <td>0</td>\n",
       "      <td>0</td>\n",
       "      <td>8.0500</td>\n",
       "      <td>0.0</td>\n",
       "      <td>0.0</td>\n",
       "      <td>1.0</td>\n",
       "    </tr>\n",
       "  </tbody>\n",
       "</table>\n",
       "</div>"
      ],
      "text/plain": [
       "   survived  pclass  sex   age  sibsp  parch     fare  station_C  station_Q  \\\n",
       "0         0       3    1  22.0      1      0   7.2500        0.0        0.0   \n",
       "1         1       1    0  38.0      1      0  71.2833        1.0        0.0   \n",
       "2         1       3    0  26.0      0      0   7.9250        0.0        0.0   \n",
       "3         1       1    0  35.0      1      0  53.1000        0.0        0.0   \n",
       "4         0       3    1  35.0      0      0   8.0500        0.0        0.0   \n",
       "\n",
       "   station_S  \n",
       "0        1.0  \n",
       "1        0.0  \n",
       "2        1.0  \n",
       "3        1.0  \n",
       "4        1.0  "
      ]
     },
     "execution_count": 16,
     "metadata": {},
     "output_type": "execute_result"
    }
   ],
   "source": [
    "train_V2.head(5)"
   ]
  },
  {
   "cell_type": "code",
   "execution_count": 17,
   "id": "b3ce0cdd-7e78-4677-b667-2738fa320a86",
   "metadata": {},
   "outputs": [
    {
     "data": {
      "text/html": [
       "<div>\n",
       "<style scoped>\n",
       "    .dataframe tbody tr th:only-of-type {\n",
       "        vertical-align: middle;\n",
       "    }\n",
       "\n",
       "    .dataframe tbody tr th {\n",
       "        vertical-align: top;\n",
       "    }\n",
       "\n",
       "    .dataframe thead th {\n",
       "        text-align: right;\n",
       "    }\n",
       "</style>\n",
       "<table border=\"1\" class=\"dataframe\">\n",
       "  <thead>\n",
       "    <tr style=\"text-align: right;\">\n",
       "      <th></th>\n",
       "      <th>survived</th>\n",
       "      <th>pclass</th>\n",
       "      <th>sex</th>\n",
       "      <th>age</th>\n",
       "      <th>sibsp</th>\n",
       "      <th>parch</th>\n",
       "      <th>fare</th>\n",
       "      <th>station_C</th>\n",
       "      <th>station_Q</th>\n",
       "      <th>station_S</th>\n",
       "    </tr>\n",
       "  </thead>\n",
       "  <tbody>\n",
       "    <tr>\n",
       "      <th>survived</th>\n",
       "      <td>1.00</td>\n",
       "      <td>-0.36</td>\n",
       "      <td>-0.54</td>\n",
       "      <td>-0.08</td>\n",
       "      <td>-0.02</td>\n",
       "      <td>0.10</td>\n",
       "      <td>0.27</td>\n",
       "      <td>0.20</td>\n",
       "      <td>-0.05</td>\n",
       "      <td>-0.16</td>\n",
       "    </tr>\n",
       "    <tr>\n",
       "      <th>pclass</th>\n",
       "      <td>-0.36</td>\n",
       "      <td>1.00</td>\n",
       "      <td>0.15</td>\n",
       "      <td>-0.37</td>\n",
       "      <td>0.07</td>\n",
       "      <td>0.02</td>\n",
       "      <td>-0.55</td>\n",
       "      <td>-0.28</td>\n",
       "      <td>0.13</td>\n",
       "      <td>0.20</td>\n",
       "    </tr>\n",
       "    <tr>\n",
       "      <th>sex</th>\n",
       "      <td>-0.54</td>\n",
       "      <td>0.15</td>\n",
       "      <td>1.00</td>\n",
       "      <td>0.10</td>\n",
       "      <td>-0.11</td>\n",
       "      <td>-0.25</td>\n",
       "      <td>-0.18</td>\n",
       "      <td>-0.10</td>\n",
       "      <td>-0.03</td>\n",
       "      <td>0.11</td>\n",
       "    </tr>\n",
       "    <tr>\n",
       "      <th>age</th>\n",
       "      <td>-0.08</td>\n",
       "      <td>-0.37</td>\n",
       "      <td>0.10</td>\n",
       "      <td>1.00</td>\n",
       "      <td>-0.31</td>\n",
       "      <td>-0.19</td>\n",
       "      <td>0.09</td>\n",
       "      <td>0.04</td>\n",
       "      <td>-0.02</td>\n",
       "      <td>-0.03</td>\n",
       "    </tr>\n",
       "    <tr>\n",
       "      <th>sibsp</th>\n",
       "      <td>-0.02</td>\n",
       "      <td>0.07</td>\n",
       "      <td>-0.11</td>\n",
       "      <td>-0.31</td>\n",
       "      <td>1.00</td>\n",
       "      <td>0.38</td>\n",
       "      <td>0.14</td>\n",
       "      <td>-0.05</td>\n",
       "      <td>0.05</td>\n",
       "      <td>0.02</td>\n",
       "    </tr>\n",
       "    <tr>\n",
       "      <th>parch</th>\n",
       "      <td>0.10</td>\n",
       "      <td>0.02</td>\n",
       "      <td>-0.25</td>\n",
       "      <td>-0.19</td>\n",
       "      <td>0.38</td>\n",
       "      <td>1.00</td>\n",
       "      <td>0.21</td>\n",
       "      <td>-0.01</td>\n",
       "      <td>-0.01</td>\n",
       "      <td>0.01</td>\n",
       "    </tr>\n",
       "    <tr>\n",
       "      <th>fare</th>\n",
       "      <td>0.27</td>\n",
       "      <td>-0.55</td>\n",
       "      <td>-0.18</td>\n",
       "      <td>0.09</td>\n",
       "      <td>0.14</td>\n",
       "      <td>0.21</td>\n",
       "      <td>1.00</td>\n",
       "      <td>0.30</td>\n",
       "      <td>-0.06</td>\n",
       "      <td>-0.25</td>\n",
       "    </tr>\n",
       "    <tr>\n",
       "      <th>station_C</th>\n",
       "      <td>0.20</td>\n",
       "      <td>-0.28</td>\n",
       "      <td>-0.10</td>\n",
       "      <td>0.04</td>\n",
       "      <td>-0.05</td>\n",
       "      <td>-0.01</td>\n",
       "      <td>0.30</td>\n",
       "      <td>1.00</td>\n",
       "      <td>-0.10</td>\n",
       "      <td>-0.88</td>\n",
       "    </tr>\n",
       "    <tr>\n",
       "      <th>station_Q</th>\n",
       "      <td>-0.05</td>\n",
       "      <td>0.13</td>\n",
       "      <td>-0.03</td>\n",
       "      <td>-0.02</td>\n",
       "      <td>0.05</td>\n",
       "      <td>-0.01</td>\n",
       "      <td>-0.06</td>\n",
       "      <td>-0.10</td>\n",
       "      <td>1.00</td>\n",
       "      <td>-0.38</td>\n",
       "    </tr>\n",
       "    <tr>\n",
       "      <th>station_S</th>\n",
       "      <td>-0.16</td>\n",
       "      <td>0.20</td>\n",
       "      <td>0.11</td>\n",
       "      <td>-0.03</td>\n",
       "      <td>0.02</td>\n",
       "      <td>0.01</td>\n",
       "      <td>-0.25</td>\n",
       "      <td>-0.88</td>\n",
       "      <td>-0.38</td>\n",
       "      <td>1.00</td>\n",
       "    </tr>\n",
       "  </tbody>\n",
       "</table>\n",
       "</div>"
      ],
      "text/plain": [
       "           survived  pclass   sex   age  sibsp  parch  fare  station_C  \\\n",
       "survived       1.00   -0.36 -0.54 -0.08  -0.02   0.10  0.27       0.20   \n",
       "pclass        -0.36    1.00  0.15 -0.37   0.07   0.02 -0.55      -0.28   \n",
       "sex           -0.54    0.15  1.00  0.10  -0.11  -0.25 -0.18      -0.10   \n",
       "age           -0.08   -0.37  0.10  1.00  -0.31  -0.19  0.09       0.04   \n",
       "sibsp         -0.02    0.07 -0.11 -0.31   1.00   0.38  0.14      -0.05   \n",
       "parch          0.10    0.02 -0.25 -0.19   0.38   1.00  0.21      -0.01   \n",
       "fare           0.27   -0.55 -0.18  0.09   0.14   0.21  1.00       0.30   \n",
       "station_C      0.20   -0.28 -0.10  0.04  -0.05  -0.01  0.30       1.00   \n",
       "station_Q     -0.05    0.13 -0.03 -0.02   0.05  -0.01 -0.06      -0.10   \n",
       "station_S     -0.16    0.20  0.11 -0.03   0.02   0.01 -0.25      -0.88   \n",
       "\n",
       "           station_Q  station_S  \n",
       "survived       -0.05      -0.16  \n",
       "pclass          0.13       0.20  \n",
       "sex            -0.03       0.11  \n",
       "age            -0.02      -0.03  \n",
       "sibsp           0.05       0.02  \n",
       "parch          -0.01       0.01  \n",
       "fare           -0.06      -0.25  \n",
       "station_C      -0.10      -0.88  \n",
       "station_Q       1.00      -0.38  \n",
       "station_S      -0.38       1.00  "
      ]
     },
     "execution_count": 17,
     "metadata": {},
     "output_type": "execute_result"
    }
   ],
   "source": [
    "corr_matrix = train_V2.corr(numeric_only = True).round(2)\n",
    "corr_matrix"
   ]
  },
  {
   "cell_type": "code",
   "execution_count": 18,
   "id": "49a03f71-db56-4446-9153-61af2c22ac90",
   "metadata": {},
   "outputs": [
    {
     "data": {
      "image/png": "[encoded data removed]",
      "text/plain": [
       "<Figure size 640x480 with 2 Axes>"
      ]
     },
     "metadata": {},
     "output_type": "display_data"
    }
   ],
   "source": [
    "plt.imshow(corr_matrix, cmap = 'Blues')\n",
    "\n",
    "plt.colorbar()\n",
    "\n",
    "variables = []\n",
    "for i in corr_matrix.columns:\n",
    "  variables.append(i)\n",
    "\n",
    "plt.xticks(range(len(corr_matrix)), variables, rotation=45, ha='right')\n",
    "plt.yticks(range(len(corr_matrix)), variables)\n",
    "\n",
    "plt.title(\"Correlation Heatmap\")\n",
    "plt.show()"
   ]
  },
  {
   "cell_type": "code",
   "execution_count": 22,
   "id": "33b2d55f-234c-487c-bd5f-0ca50e208e45",
   "metadata": {},
   "outputs": [
    {
     "data": {
      "image/png": "[encoded data removed]",
      "text/plain": [
       "<Figure size 640x480 with 1 Axes>"
      ]
     },
     "metadata": {},
     "output_type": "display_data"
    }
   ],
   "source": [
    "import seaborn as sns\n",
    "class_plot = sns.countplot(data=train_V2, x='pclass', hue='survived')\n",
    "plt.title('Survival Count by Pclass')\n",
    "plt.xlabel('pclass')\n",
    "plt.ylabel('Count')\n",
    "for p in class_plot.patches:\n",
    "    class_plot.annotate(f'{p.get_height()}',\\\n",
    "                (p.get_x() + p.get_width() / 2.,\\\n",
    "                 p.get_height()), ha='center',\\\n",
    "                va='center', xytext=(0, 10), textcoords='offset points')\n",
    "plt.show()"
   ]
  },
  {
   "cell_type": "code",
   "execution_count": 23,
   "id": "e05cc886-55cd-4854-9e97-4e211b635439",
   "metadata": {},
   "outputs": [
    {
     "data": {
      "image/png": "[encoded data removed]",
      "text/plain": [
       "<Figure size 640x480 with 1 Axes>"
      ]
     },
     "metadata": {},
     "output_type": "display_data"
    }
   ],
   "source": [
    "station_counts = train_V2[['station_C', 'station_Q', 'station_S']].sum()\n",
    "colors = ['blue', 'green', 'orange']\n",
    "plt.bar(station_counts.index, station_counts.values,color= colors)\n",
    "plt.title('Number of Passengers by Station')\n",
    "plt.xlabel('Station')\n",
    "plt.ylabel('Number of Passengers')\n",
    "plt.show()"
   ]
  },
  {
   "cell_type": "code",
   "execution_count": 24,
   "id": "10448f6e-2ffa-46fc-bf68-093e3b88a953",
   "metadata": {},
   "outputs": [],
   "source": [
    "train_V3 = train_V2.drop(['sibsp', 'station_Q'], axis = 1)"
   ]
  },
  {
   "cell_type": "code",
   "execution_count": 25,
   "id": "1e71b0de-7f6b-4df3-9a39-99ef4e5a4086",
   "metadata": {},
   "outputs": [
    {
     "data": {
      "text/html": [
       "<div>\n",
       "<style scoped>\n",
       "    .dataframe tbody tr th:only-of-type {\n",
       "        vertical-align: middle;\n",
       "    }\n",
       "\n",
       "    .dataframe tbody tr th {\n",
       "        vertical-align: top;\n",
       "    }\n",
       "\n",
       "    .dataframe thead th {\n",
       "        text-align: right;\n",
       "    }\n",
       "</style>\n",
       "<table border=\"1\" class=\"dataframe\">\n",
       "  <thead>\n",
       "    <tr style=\"text-align: right;\">\n",
       "      <th></th>\n",
       "      <th>survived</th>\n",
       "      <th>pclass</th>\n",
       "      <th>sex</th>\n",
       "      <th>age</th>\n",
       "      <th>parch</th>\n",
       "      <th>fare</th>\n",
       "      <th>station_C</th>\n",
       "      <th>station_S</th>\n",
       "    </tr>\n",
       "  </thead>\n",
       "  <tbody>\n",
       "    <tr>\n",
       "      <th>0</th>\n",
       "      <td>0</td>\n",
       "      <td>3</td>\n",
       "      <td>1</td>\n",
       "      <td>22.0</td>\n",
       "      <td>0</td>\n",
       "      <td>7.2500</td>\n",
       "      <td>0.0</td>\n",
       "      <td>1.0</td>\n",
       "    </tr>\n",
       "    <tr>\n",
       "      <th>1</th>\n",
       "      <td>1</td>\n",
       "      <td>1</td>\n",
       "      <td>0</td>\n",
       "      <td>38.0</td>\n",
       "      <td>0</td>\n",
       "      <td>71.2833</td>\n",
       "      <td>1.0</td>\n",
       "      <td>0.0</td>\n",
       "    </tr>\n",
       "    <tr>\n",
       "      <th>2</th>\n",
       "      <td>1</td>\n",
       "      <td>3</td>\n",
       "      <td>0</td>\n",
       "      <td>26.0</td>\n",
       "      <td>0</td>\n",
       "      <td>7.9250</td>\n",
       "      <td>0.0</td>\n",
       "      <td>1.0</td>\n",
       "    </tr>\n",
       "    <tr>\n",
       "      <th>3</th>\n",
       "      <td>1</td>\n",
       "      <td>1</td>\n",
       "      <td>0</td>\n",
       "      <td>35.0</td>\n",
       "      <td>0</td>\n",
       "      <td>53.1000</td>\n",
       "      <td>0.0</td>\n",
       "      <td>1.0</td>\n",
       "    </tr>\n",
       "    <tr>\n",
       "      <th>4</th>\n",
       "      <td>0</td>\n",
       "      <td>3</td>\n",
       "      <td>1</td>\n",
       "      <td>35.0</td>\n",
       "      <td>0</td>\n",
       "      <td>8.0500</td>\n",
       "      <td>0.0</td>\n",
       "      <td>1.0</td>\n",
       "    </tr>\n",
       "  </tbody>\n",
       "</table>\n",
       "</div>"
      ],
      "text/plain": [
       "   survived  pclass  sex   age  parch     fare  station_C  station_S\n",
       "0         0       3    1  22.0      0   7.2500        0.0        1.0\n",
       "1         1       1    0  38.0      0  71.2833        1.0        0.0\n",
       "2         1       3    0  26.0      0   7.9250        0.0        1.0\n",
       "3         1       1    0  35.0      0  53.1000        0.0        1.0\n",
       "4         0       3    1  35.0      0   8.0500        0.0        1.0"
      ]
     },
     "execution_count": 25,
     "metadata": {},
     "output_type": "execute_result"
    }
   ],
   "source": [
    "train_V3.head(5)"
   ]
  },
  {
   "cell_type": "code",
   "execution_count": 26,
   "id": "0dac0883-9c2b-4de8-b70b-c36ac8a8f6c9",
   "metadata": {},
   "outputs": [
    {
     "name": "stdout",
     "output_type": "stream",
     "text": [
      "A correlation coefficient of -0.02 between the sibsp variable and the dependent variable (Survived) indicates a very weak negative linear relationship. Similarly, a correlation coefficient of -0.05 between the Station_Q variable and Survived also suggests a very weak negative linear relationship.Hence,these two variables are omitted for further analysis. (sibsp & station_Q)\n"
     ]
    }
   ],
   "source": [
    "print(\"A correlation coefficient of -0.02 between the sibsp variable and the dependent variable (Survived) indicates a very weak negative linear relationship. Similarly, a correlation coefficient of -0.05 between the Station_Q variable and Survived also suggests a very weak negative linear relationship.Hence,these two variables are omitted for further analysis. (sibsp & station_Q)\")"
   ]
  },
  {
   "cell_type": "markdown",
   "id": "e524f957-e3f5-4cb8-bce6-c8348d2d83bb",
   "metadata": {},
   "source": [
    "Question 4. Are there any outliers in the data? If yes, treat them."
   ]
  },
  {
   "cell_type": "code",
   "execution_count": 27,
   "id": "88b67f86-f7e9-4e53-a1fe-5b9d15dc6b0e",
   "metadata": {},
   "outputs": [
    {
     "data": {
      "text/html": [
       "<div>\n",
       "<style scoped>\n",
       "    .dataframe tbody tr th:only-of-type {\n",
       "        vertical-align: middle;\n",
       "    }\n",
       "\n",
       "    .dataframe tbody tr th {\n",
       "        vertical-align: top;\n",
       "    }\n",
       "\n",
       "    .dataframe thead th {\n",
       "        text-align: right;\n",
       "    }\n",
       "</style>\n",
       "<table border=\"1\" class=\"dataframe\">\n",
       "  <thead>\n",
       "    <tr style=\"text-align: right;\">\n",
       "      <th></th>\n",
       "      <th>survived</th>\n",
       "      <th>pclass</th>\n",
       "      <th>sex</th>\n",
       "      <th>age</th>\n",
       "      <th>parch</th>\n",
       "      <th>fare</th>\n",
       "      <th>station_C</th>\n",
       "      <th>station_S</th>\n",
       "    </tr>\n",
       "  </thead>\n",
       "  <tbody>\n",
       "    <tr>\n",
       "      <th>count</th>\n",
       "      <td>712.000000</td>\n",
       "      <td>712.000000</td>\n",
       "      <td>712.000000</td>\n",
       "      <td>712.000000</td>\n",
       "      <td>712.000000</td>\n",
       "      <td>712.000000</td>\n",
       "      <td>712.000000</td>\n",
       "      <td>712.000000</td>\n",
       "    </tr>\n",
       "    <tr>\n",
       "      <th>mean</th>\n",
       "      <td>0.404494</td>\n",
       "      <td>2.240169</td>\n",
       "      <td>0.636236</td>\n",
       "      <td>29.642093</td>\n",
       "      <td>0.432584</td>\n",
       "      <td>34.567251</td>\n",
       "      <td>0.182584</td>\n",
       "      <td>0.778090</td>\n",
       "    </tr>\n",
       "    <tr>\n",
       "      <th>std</th>\n",
       "      <td>0.491139</td>\n",
       "      <td>0.836854</td>\n",
       "      <td>0.481420</td>\n",
       "      <td>14.492933</td>\n",
       "      <td>0.854181</td>\n",
       "      <td>52.938648</td>\n",
       "      <td>0.386597</td>\n",
       "      <td>0.415823</td>\n",
       "    </tr>\n",
       "    <tr>\n",
       "      <th>min</th>\n",
       "      <td>0.000000</td>\n",
       "      <td>1.000000</td>\n",
       "      <td>0.000000</td>\n",
       "      <td>0.420000</td>\n",
       "      <td>0.000000</td>\n",
       "      <td>0.000000</td>\n",
       "      <td>0.000000</td>\n",
       "      <td>0.000000</td>\n",
       "    </tr>\n",
       "    <tr>\n",
       "      <th>25%</th>\n",
       "      <td>0.000000</td>\n",
       "      <td>1.000000</td>\n",
       "      <td>0.000000</td>\n",
       "      <td>20.000000</td>\n",
       "      <td>0.000000</td>\n",
       "      <td>8.050000</td>\n",
       "      <td>0.000000</td>\n",
       "      <td>1.000000</td>\n",
       "    </tr>\n",
       "    <tr>\n",
       "      <th>50%</th>\n",
       "      <td>0.000000</td>\n",
       "      <td>2.000000</td>\n",
       "      <td>1.000000</td>\n",
       "      <td>28.000000</td>\n",
       "      <td>0.000000</td>\n",
       "      <td>15.645850</td>\n",
       "      <td>0.000000</td>\n",
       "      <td>1.000000</td>\n",
       "    </tr>\n",
       "    <tr>\n",
       "      <th>75%</th>\n",
       "      <td>1.000000</td>\n",
       "      <td>3.000000</td>\n",
       "      <td>1.000000</td>\n",
       "      <td>38.000000</td>\n",
       "      <td>1.000000</td>\n",
       "      <td>33.000000</td>\n",
       "      <td>0.000000</td>\n",
       "      <td>1.000000</td>\n",
       "    </tr>\n",
       "    <tr>\n",
       "      <th>max</th>\n",
       "      <td>1.000000</td>\n",
       "      <td>3.000000</td>\n",
       "      <td>1.000000</td>\n",
       "      <td>80.000000</td>\n",
       "      <td>6.000000</td>\n",
       "      <td>512.329200</td>\n",
       "      <td>1.000000</td>\n",
       "      <td>1.000000</td>\n",
       "    </tr>\n",
       "  </tbody>\n",
       "</table>\n",
       "</div>"
      ],
      "text/plain": [
       "         survived      pclass         sex         age       parch        fare  \\\n",
       "count  712.000000  712.000000  712.000000  712.000000  712.000000  712.000000   \n",
       "mean     0.404494    2.240169    0.636236   29.642093    0.432584   34.567251   \n",
       "std      0.491139    0.836854    0.481420   14.492933    0.854181   52.938648   \n",
       "min      0.000000    1.000000    0.000000    0.420000    0.000000    0.000000   \n",
       "25%      0.000000    1.000000    0.000000   20.000000    0.000000    8.050000   \n",
       "50%      0.000000    2.000000    1.000000   28.000000    0.000000   15.645850   \n",
       "75%      1.000000    3.000000    1.000000   38.000000    1.000000   33.000000   \n",
       "max      1.000000    3.000000    1.000000   80.000000    6.000000  512.329200   \n",
       "\n",
       "        station_C   station_S  \n",
       "count  712.000000  712.000000  \n",
       "mean     0.182584    0.778090  \n",
       "std      0.386597    0.415823  \n",
       "min      0.000000    0.000000  \n",
       "25%      0.000000    1.000000  \n",
       "50%      0.000000    1.000000  \n",
       "75%      0.000000    1.000000  \n",
       "max      1.000000    1.000000  "
      ]
     },
     "execution_count": 27,
     "metadata": {},
     "output_type": "execute_result"
    }
   ],
   "source": [
    "train_V3.describe()"
   ]
  },
  {
   "cell_type": "code",
   "execution_count": 28,
   "id": "fbbcfeb4-84e3-437d-9efc-b46cf655f666",
   "metadata": {},
   "outputs": [
    {
     "data": {
      "text/plain": [
       "<seaborn.axisgrid.FacetGrid at 0x12e03351250>"
      ]
     },
     "execution_count": 28,
     "metadata": {},
     "output_type": "execute_result"
    },
    {
     "data": {
      "image/png": "[encoded data removed]",
      "text/plain": [
       "<Figure size 500x500 with 1 Axes>"
      ]
     },
     "metadata": {},
     "output_type": "display_data"
    }
   ],
   "source": [
    "import seaborn as sns\n",
    "sns.displot(train_V3['age'])\n",
    "#sns.displot(train_V3['parch'])\n",
    "#sns.displot(train_V3['fare'])"
   ]
  },
  {
   "cell_type": "code",
   "execution_count": 29,
   "id": "d4de3352-a684-4719-b7fb-7ea78c51822f",
   "metadata": {},
   "outputs": [
    {
     "data": {
      "text/plain": [
       "<Axes: ylabel='fare'>"
      ]
     },
     "execution_count": 29,
     "metadata": {},
     "output_type": "execute_result"
    },
    {
     "data": {
      "image/png": "[encoded data removed]",
      "text/plain": [
       "<Figure size 640x480 with 1 Axes>"
      ]
     },
     "metadata": {},
     "output_type": "display_data"
    }
   ],
   "source": [
    "sns.boxplot(train_V3['fare'])"
   ]
  },
  {
   "cell_type": "markdown",
   "id": "b04f6b8b-5866-4c63-8468-52ccd68f4187",
   "metadata": {},
   "source": [
    "from scipy import stats\n",
    "z_scores = stats.zscore(train_V3.select_dtypes(include=['int', 'float']))\n",
    "threshold = 3\n",
    "outliers = (np.abs(z_scores) > threshold).any(axis=1)\n",
    "train_V4 = train_V3[~outliers]\n",
    "print(\"Data with outliers removed:\")\n",
    "print(outliers)\n"
   ]
  },
  {
   "cell_type": "code",
   "execution_count": 30,
   "id": "ce9021f9-c78d-4399-ba16-ec10333aa084",
   "metadata": {},
   "outputs": [
    {
     "name": "stdout",
     "output_type": "stream",
     "text": [
      "Data with outliers removed:\n",
      "     survived  pclass    sex    age  parch   fare  station_C  station_S\n",
      "0       False   False  False  False  False  False      False      False\n",
      "1       False   False  False  False  False  False      False      False\n",
      "2       False   False  False  False  False  False      False      False\n",
      "3       False   False  False  False  False  False      False      False\n",
      "4       False   False  False  False  False  False      False      False\n",
      "..        ...     ...    ...    ...    ...    ...        ...        ...\n",
      "885     False   False  False  False   True  False      False      False\n",
      "886     False   False  False  False  False  False      False      False\n",
      "887     False   False  False  False  False  False      False      False\n",
      "889     False   False  False  False  False  False      False      False\n",
      "890     False   False  False  False  False  False      False      False\n",
      "\n",
      "[712 rows x 8 columns]\n"
     ]
    }
   ],
   "source": [
    "_mean = train_V3.mean()\n",
    "_std_dev = train_V3.std()\n",
    "\n",
    "z_scores = (train_V3 - _mean) / _std_dev\n",
    "threshold = 3\n",
    "outliers = np.abs(z_scores) > threshold\n",
    "\n",
    "train_V4 = train_V3[~outliers.any(axis=1)]\n",
    "\n",
    "print(\"Data with outliers removed:\")\n",
    "print(outliers)"
   ]
  },
  {
   "cell_type": "markdown",
   "id": "de0be18c-4b79-446c-873a-4bcc66baa7d0",
   "metadata": {},
   "source": [
    "Yes,there are outliers in the data .Hence treated ."
   ]
  },
  {
   "cell_type": "markdown",
   "id": "4d292e5f-a7a7-4de6-aabd-cb4112252fe8",
   "metadata": {},
   "source": [
    "Question 5.Partition the data into a training set (with 70% of the observations), and testing set (with 30% of the \n",
    "observations) using the random state of 12345 for cross validation. "
   ]
  },
  {
   "cell_type": "code",
   "execution_count": 31,
   "id": "4f8fb51f-537c-4722-99b0-ecadd2e10631",
   "metadata": {},
   "outputs": [
    {
     "name": "stdout",
     "output_type": "stream",
     "text": [
      "KNN Accuracy: 0.6372549019607843\n",
      "Logistic Regression Accuracy: 0.7549019607843137\n",
      "Decision Tree Accuracy: 0.7696078431372549\n",
      "\n",
      "Training and Testing KNN:\n",
      "Train Accuracy with KNN: 0.7911392405063291\n",
      "Test Accuracy with KNN: 0.6372549019607843\n"
     ]
    },
    {
     "data": {
      "image/png": "[encoded data removed]",
      "text/plain": [
       "<Figure size 1000x600 with 1 Axes>"
      ]
     },
     "metadata": {},
     "output_type": "display_data"
    },
    {
     "name": "stdout",
     "output_type": "stream",
     "text": [
      "\n",
      "Training and Testing Decision Tree:\n",
      "Train Accuracy with Decision Tree: 0.989451476793249\n",
      "Test Accuracy with Decision Tree: 0.7794117647058824\n"
     ]
    },
    {
     "data": {
      "image/png": "[encoded data removed]",
      "text/plain": [
       "<Figure size 1000x600 with 1 Axes>"
      ]
     },
     "metadata": {},
     "output_type": "display_data"
    },
    {
     "name": "stdout",
     "output_type": "stream",
     "text": [
      "\n",
      "Model Comparison:\n",
      "The best model for classifying the data is: Decision Tree with accuracy 0.7696078431372549\n",
      "Accuracy of KNN model: 0.5882352941176471\n",
      "Accuracy of Logistic Regression model: 0.7549019607843137\n",
      "The best model for classifying the data is: Logistic Regression with accuracy: 0.7549019607843137\n"
     ]
    },
    {
     "data": {
      "image/png": "[encoded data removed]",
      "text/plain": [
       "<Figure size 1000x600 with 1 Axes>"
      ]
     },
     "metadata": {},
     "output_type": "display_data"
    }
   ],
   "source": [
    "import pandas as pd\n",
    "import numpy as np\n",
    "import matplotlib.pyplot as plt\n",
    "import sklearn as sk\n",
    "import matplotlib.pyplot as plt\n",
    "\n",
    "class ModelManager:\n",
    "    def __init__(self):\n",
    "        self.models = {}\n",
    "\n",
    "    def add_model(self, name, model):\n",
    "        self.models[name] = model\n",
    "\n",
    "    def train_models(self, X_train, y_train):\n",
    "        for name, model in self.models.items():\n",
    "            model.fit(X_train, y_train)\n",
    "\n",
    "    def test_models(self, X_test, y_test):\n",
    "        accuracies = {}\n",
    "        for name, model in self.models.items():\n",
    "            predictions = model.predict(X_test)\n",
    "            accuracy = accuracy_score(y_test, predictions)\n",
    "            accuracies[name] = accuracy\n",
    "            print(f\"{name} Accuracy: {accuracy}\")\n",
    "        return accuracies\n",
    "\n",
    "    def train_knn(self, X_train, y_train, X_test, y_test):\n",
    "        knn = self.models['KNN']\n",
    "        knn.fit(X_train, y_train)\n",
    "\n",
    "        train_accuracy = knn.score(X_train, y_train)\n",
    "        test_accuracy = knn.score(X_test, y_test)\n",
    "        \n",
    "        print(f\"Train Accuracy with KNN: {train_accuracy}\")\n",
    "        print(f\"Test Accuracy with KNN: {test_accuracy}\")\n",
    "\n",
    "        neighbors = range(1, 10)\n",
    "        \n",
    "        train_accuracy = []\n",
    "        test_accuracy = []\n",
    "        \n",
    "        for n in neighbors:\n",
    "            knn.n_neighbors = 2\n",
    "            knn.fit(X_train, y_train)\n",
    "            train_accuracy.append(knn.score(X_train, y_train))\n",
    "            test_accuracy.append(knn.score(X_test, y_test))\n",
    "\n",
    "        plt.figure(figsize=(10, 6))\n",
    "        plt.plot(neighbors, train_accuracy, label=\"Training Accuracy\", marker='o')\n",
    "        plt.plot(neighbors, test_accuracy, label=\"Test Accuracy\", marker='o')\n",
    "        plt.title(\"KNN Accuracy vs Number of Neighbors\")\n",
    "        plt.xlabel(\"Number of Neighbors\")\n",
    "        plt.ylabel(\"Accuracy\")\n",
    "        plt.xticks(neighbors)\n",
    "        plt.legend()\n",
    "        plt.grid()\n",
    "        plt.show()\n",
    "\n",
    "    def train_logistic_regression(self, X_train, y_train, X_test, y_test):\n",
    "        log_reg = self.models['Logistic Regression']\n",
    "        log_reg.fit(X_train, y_train)\n",
    "\n",
    "        train_accuracy = log_reg.score(X_train, y_train)\n",
    "        test_accuracy = log_reg.score(X_test, y_test)\n",
    "\n",
    "        print(f\"Train Accuracy with Logistic Regression: {train_accuracy}\")\n",
    "        print(f\"Test Accuracy with Logistic Regression: {test_accuracy}\")\n",
    "\n",
    "    def train_decision_tree(self, X_train, y_train, X_test, y_test):\n",
    "        decision_tree = self.models['Decision Tree']\n",
    "        decision_tree.fit(X_train, y_train)\n",
    "\n",
    "        train_accuracy = decision_tree.score(X_train, y_train)\n",
    "        test_accuracy = decision_tree.score(X_test, y_test)\n",
    "\n",
    "        print(f\"Train Accuracy with Decision Tree: {train_accuracy}\")\n",
    "        print(f\"Test Accuracy with Decision Tree: {test_accuracy}\")\n",
    "\n",
    "        depths = range(1, 10)\n",
    "        \n",
    "        train_accuracy = []\n",
    "        test_accuracy = []\n",
    "        \n",
    "        for depth in depths:\n",
    "            decision_tree.max_depth = depth\n",
    "            decision_tree.fit(X_train, y_train)\n",
    "            train_accuracy.append(decision_tree.score(X_train, y_train))\n",
    "            test_accuracy.append(decision_tree.score(X_test, y_test))\n",
    "        \n",
    "        # Plotting the graph\n",
    "        plt.figure(figsize=(10, 6))\n",
    "        plt.plot(depths, train_accuracy, label=\"Training Accuracy\", marker='o')\n",
    "        plt.plot(depths, test_accuracy, label=\"Test Accuracy\", marker='o')\n",
    "        plt.title(\"Decision Tree Accuracy vs Maximum Depth\")\n",
    "        plt.xlabel(\"Maximum Depth\")\n",
    "        plt.ylabel(\"Accuracy\")\n",
    "        plt.xticks(depths)\n",
    "        plt.legend()\n",
    "        plt.grid()\n",
    "        plt.show()\n",
    "\n",
    "\n",
    "X = train_V4.drop(['survived'], axis=1)\n",
    "y = train_V4['survived']\n",
    "\n",
    "X_train, X_test, y_train, y_test = train_test_split(X, y, test_size=0.3, random_state=12345)\n",
    "\n",
    "knn = KNeighborsClassifier()\n",
    "log_reg = LogisticRegression()\n",
    "decision_tree = DecisionTreeClassifier()\n",
    "\n",
    "manager = ModelManager()\n",
    "manager.add_model(\"KNN\", knn)\n",
    "manager.add_model(\"Logistic Regression\", log_reg)\n",
    "manager.add_model(\"Decision Tree\", decision_tree)\n",
    "\n",
    "manager.train_models(X_train, y_train)\n",
    "\n",
    "accuracies = manager.test_models(X_test, y_test)\n",
    "\n",
    "print(\"\\nTraining and Testing KNN:\")\n",
    "manager.train_knn(X_train, y_train, X_test, y_test)\n",
    "\n",
    "print(\"\\nTraining and Testing Decision Tree:\")\n",
    "manager.train_decision_tree(X_train, y_train, X_test, y_test)\n",
    "\n",
    "print(\"\\nModel Comparison:\")\n",
    "best_model = max(accuracies, key=accuracies.get)\n",
    "print(f\"The best model for classifying the data is: {best_model} with accuracy {accuracies[best_model]}\")\n",
    "\n",
    "knn_predictions = knn.predict(X_test)\n",
    "log_reg_predictions = log_reg.predict(X_test)\n",
    "\n",
    "knn_accuracy = accuracy_score(y_test, knn_predictions)\n",
    "log_reg_accuracy = accuracy_score(y_test, log_reg_predictions)\n",
    "\n",
    "print(\"Accuracy of KNN model:\", knn_accuracy)\n",
    "print(\"Accuracy of Logistic Regression model:\", log_reg_accuracy)\n",
    "\n",
    "if knn_accuracy > log_reg_accuracy:\n",
    "    best_model = \"KNN\"\n",
    "    best_accuracy = knn_accuracy\n",
    "else:\n",
    "    best_model = \"Logistic Regression\"\n",
    "    best_accuracy = log_reg_accuracy\n",
    "\n",
    "print(\"The best model for classifying the data is:\", best_model, \"with accuracy:\", best_accuracy)\n",
    "\n",
    "plt.figure(figsize=(10, 6))\n",
    "plt.bar(accuracies.keys(), accuracies.values(), color=['red', 'orange', 'yellow'])\n",
    "plt.title(\"Model Accuracy Comparison\")\n",
    "plt.xlabel(\"Model\")\n",
    "plt.ylabel(\"Accuracy\")\n",
    "plt.ylim(0, 1)  \n",
    "plt.grid(axis='y', linestyle='--', alpha=0.7)\n",
    "plt.show()\n",
    "\n",
    "    "
   ]
  },
  {
   "cell_type": "markdown",
   "id": "b82ccdf8-31ee-4481-8cfd-07fe4dc7f9af",
   "metadata": {},
   "source": [
    "BEST value of K is 2"
   ]
  },
  {
   "cell_type": "markdown",
   "id": "5ef2cf4a-97c0-402d-881e-eae6d8c7f153",
   "metadata": {},
   "source": [
    "FIGURE 1: BOX PLOT OF FARE VS SURVIVED"
   ]
  },
  {
   "cell_type": "code",
   "execution_count": 32,
   "id": "230ea363-af5b-4317-97c6-fc8a87799d59",
   "metadata": {},
   "outputs": [
    {
     "data": {
      "image/png": "[encoded data removed]",
      "text/plain": [
       "<Figure size 1200x800 with 1 Axes>"
      ]
     },
     "metadata": {},
     "output_type": "display_data"
    }
   ],
   "source": [
    "plt.figure(figsize=(12, 8))\n",
    "sns.boxplot(x='survived', y='fare', data=train_V4) \n",
    "#survived  pclass    sex    age  parch   fare  station_C  station_S\n",
    "plt.title('Box Plot of Fare vs Survived')\n",
    "plt.xlabel('Survived')\n",
    "plt.ylabel('Fare')\n",
    "plt.show()"
   ]
  }
 ],
 "metadata": {
  "kernelspec": {
   "display_name": "Python 3 (ipykernel)",
   "language": "python",
   "name": "python3"
  },
  "language_info": {
   "codemirror_mode": {
    "name": "ipython",
    "version": 3
   },
   "file_extension": ".py",
   "mimetype": "text/x-python",
   "name": "python",
   "nbconvert_exporter": "python",
   "pygments_lexer": "ipython3",
   "version": "3.12.1"
  }
 },
 "nbformat": 4,
 "nbformat_minor": 5
}
